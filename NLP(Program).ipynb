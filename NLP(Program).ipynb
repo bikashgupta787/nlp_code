{
  "nbformat": 4,
  "nbformat_minor": 0,
  "metadata": {
    "colab": {
      "provenance": [],
      "collapsed_sections": []
    },
    "kernelspec": {
      "name": "python3",
      "display_name": "Python 3"
    },
    "language_info": {
      "name": "python"
    }
  },
  "cells": [
    {
      "cell_type": "markdown",
      "source": [
        "1.Write a program to tokenize text using NLTK."
      ],
      "metadata": {
        "id": "uQiRZ3GUaQWO"
      }
    },
    {
      "cell_type": "code",
      "execution_count": 1,
      "metadata": {
        "colab": {
          "base_uri": "https://localhost:8080/"
        },
        "id": "itiZtyPEaGur",
        "outputId": "6cfa7a3d-ea25-4c40-9fe6-eb08ea134507"
      },
      "outputs": [
        {
          "name": "stdout",
          "output_type": "stream",
          "text": [
            "NLTK Downloader\n",
            "---------------------------------------------------------------------------\n",
            "    d) Download   l) List    u) Update   c) Config   h) Help   q) Quit\n",
            "---------------------------------------------------------------------------\n",
            "Downloader> d\n",
            "\n",
            "Download which package (l=list; x=cancel)?\n",
            "  Identifier> punkt\n"
          ]
        },
        {
          "output_type": "stream",
          "name": "stderr",
          "text": [
            "    Downloading package punkt to /root/nltk_data...\n",
            "      Unzipping tokenizers/punkt.zip.\n"
          ]
        },
        {
          "name": "stdout",
          "output_type": "stream",
          "text": [
            "\n",
            "---------------------------------------------------------------------------\n",
            "    d) Download   l) List    u) Update   c) Config   h) Help   q) Quit\n",
            "---------------------------------------------------------------------------\n",
            "Downloader> q\n"
          ]
        },
        {
          "output_type": "execute_result",
          "data": {
            "text/plain": [
              "True"
            ]
          },
          "metadata": {},
          "execution_count": 1
        }
      ],
      "source": [
        "import nltk\n",
        "nltk.download()"
      ]
    },
    {
      "cell_type": "code",
      "source": [
        "import nltk\n",
        "nltk.download(\"popular\")"
      ],
      "metadata": {
        "colab": {
          "base_uri": "https://localhost:8080/"
        },
        "id": "hnpeV6ObaTro",
        "outputId": "b0fd7ab5-3bc8-4119-de8f-2140a25beb3e"
      },
      "execution_count": 2,
      "outputs": [
        {
          "output_type": "stream",
          "name": "stderr",
          "text": [
            "[nltk_data] Downloading collection 'popular'\n",
            "[nltk_data]    | \n",
            "[nltk_data]    | Downloading package cmudict to /root/nltk_data...\n",
            "[nltk_data]    |   Unzipping corpora/cmudict.zip.\n",
            "[nltk_data]    | Downloading package gazetteers to /root/nltk_data...\n",
            "[nltk_data]    |   Unzipping corpora/gazetteers.zip.\n",
            "[nltk_data]    | Downloading package genesis to /root/nltk_data...\n",
            "[nltk_data]    |   Unzipping corpora/genesis.zip.\n",
            "[nltk_data]    | Downloading package gutenberg to /root/nltk_data...\n",
            "[nltk_data]    |   Unzipping corpora/gutenberg.zip.\n",
            "[nltk_data]    | Downloading package inaugural to /root/nltk_data...\n",
            "[nltk_data]    |   Unzipping corpora/inaugural.zip.\n",
            "[nltk_data]    | Downloading package movie_reviews to\n",
            "[nltk_data]    |     /root/nltk_data...\n",
            "[nltk_data]    |   Unzipping corpora/movie_reviews.zip.\n",
            "[nltk_data]    | Downloading package names to /root/nltk_data...\n",
            "[nltk_data]    |   Unzipping corpora/names.zip.\n",
            "[nltk_data]    | Downloading package shakespeare to /root/nltk_data...\n",
            "[nltk_data]    |   Unzipping corpora/shakespeare.zip.\n",
            "[nltk_data]    | Downloading package stopwords to /root/nltk_data...\n",
            "[nltk_data]    |   Unzipping corpora/stopwords.zip.\n",
            "[nltk_data]    | Downloading package treebank to /root/nltk_data...\n",
            "[nltk_data]    |   Unzipping corpora/treebank.zip.\n",
            "[nltk_data]    | Downloading package twitter_samples to\n",
            "[nltk_data]    |     /root/nltk_data...\n",
            "[nltk_data]    |   Unzipping corpora/twitter_samples.zip.\n",
            "[nltk_data]    | Downloading package omw to /root/nltk_data...\n",
            "[nltk_data]    | Downloading package omw-1.4 to /root/nltk_data...\n",
            "[nltk_data]    | Downloading package wordnet to /root/nltk_data...\n",
            "[nltk_data]    | Downloading package wordnet2021 to /root/nltk_data...\n",
            "[nltk_data]    | Downloading package wordnet31 to /root/nltk_data...\n",
            "[nltk_data]    | Downloading package wordnet_ic to /root/nltk_data...\n",
            "[nltk_data]    |   Unzipping corpora/wordnet_ic.zip.\n",
            "[nltk_data]    | Downloading package words to /root/nltk_data...\n",
            "[nltk_data]    |   Unzipping corpora/words.zip.\n",
            "[nltk_data]    | Downloading package maxent_ne_chunker to\n",
            "[nltk_data]    |     /root/nltk_data...\n",
            "[nltk_data]    |   Unzipping chunkers/maxent_ne_chunker.zip.\n",
            "[nltk_data]    | Downloading package punkt to /root/nltk_data...\n",
            "[nltk_data]    |   Package punkt is already up-to-date!\n",
            "[nltk_data]    | Downloading package snowball_data to\n",
            "[nltk_data]    |     /root/nltk_data...\n",
            "[nltk_data]    | Downloading package averaged_perceptron_tagger to\n",
            "[nltk_data]    |     /root/nltk_data...\n",
            "[nltk_data]    |   Unzipping taggers/averaged_perceptron_tagger.zip.\n",
            "[nltk_data]    | \n",
            "[nltk_data]  Done downloading collection popular\n"
          ]
        },
        {
          "output_type": "execute_result",
          "data": {
            "text/plain": [
              "True"
            ]
          },
          "metadata": {},
          "execution_count": 2
        }
      ]
    },
    {
      "cell_type": "code",
      "source": [
        "\n",
        "from nltk.corpus import genesis"
      ],
      "metadata": {
        "id": "HXRfCvITafAf"
      },
      "execution_count": 4,
      "outputs": []
    },
    {
      "cell_type": "code",
      "source": [
        "txt =  \"Healthcare natural language processing uses specialized engines capable of scrubbing large sets of unstructured health data to discover previously missed or improperly coded patient conditions. Natural language processing medical records using machine-learned algorithms can uncover disease that may not have been previously coded, a key feature for making HCC disease discoveries.\"\n",
        "from nltk.tokenize import sent_tokenize, word_tokenize "
      ],
      "metadata": {
        "id": "VUitLBbraj5w"
      },
      "execution_count": 5,
      "outputs": []
    },
    {
      "cell_type": "code",
      "source": [
        "print(\"\\nWord tokens:\\n\", word_tokenize(txt))"
      ],
      "metadata": {
        "colab": {
          "base_uri": "https://localhost:8080/"
        },
        "id": "4vrDgayVarnN",
        "outputId": "ebe19790-cf13-4e3b-f351-b54c3a9c89a7"
      },
      "execution_count": 6,
      "outputs": [
        {
          "output_type": "stream",
          "name": "stdout",
          "text": [
            "\n",
            "Word tokens:\n",
            " ['Healthcare', 'natural', 'language', 'processing', 'uses', 'specialized', 'engines', 'capable', 'of', 'scrubbing', 'large', 'sets', 'of', 'unstructured', 'health', 'data', 'to', 'discover', 'previously', 'missed', 'or', 'improperly', 'coded', 'patient', 'conditions', '.', 'Natural', 'language', 'processing', 'medical', 'records', 'using', 'machine-learned', 'algorithms', 'can', 'uncover', 'disease', 'that', 'may', 'not', 'have', 'been', 'previously', 'coded', ',', 'a', 'key', 'feature', 'for', 'making', 'HCC', 'disease', 'discoveries', '.']\n"
          ]
        }
      ]
    },
    {
      "cell_type": "code",
      "source": [
        "txt = \"Natural language processing (NLP) is the ability for computers to understand the latest human speech terms and text.\"\n",
        "from  nltk.tokenize import TreebankWordDetokenizer"
      ],
      "metadata": {
        "id": "lJlMIZeUawZG"
      },
      "execution_count": 7,
      "outputs": []
    },
    {
      "cell_type": "code",
      "source": [
        "from nltk.tokenize import TreebankWordDetokenizer\n",
        "tokenizer = TreebankWordDetokenizer()\n",
        "tokenizer.tokenize(txt)"
      ],
      "metadata": {
        "colab": {
          "base_uri": "https://localhost:8080/",
          "height": 53
        },
        "id": "JuXmeXU5ay0n",
        "outputId": "09101ea1-8609-45d0-cb65-ee6fae46d9d9"
      },
      "execution_count": 8,
      "outputs": [
        {
          "output_type": "execute_result",
          "data": {
            "text/plain": [
              "'N a t u r a l   l a n g u a g e   p r o c e s s i n g   (N L P)   i s   t h e   a b i l i t y   f o r   c o m p u t e r s   t o   u n d e r s t a n d   t h e   l a t e s t   h u m a n   s p e e c h   t e r m s   a n d   t e x t.'"
            ],
            "application/vnd.google.colaboratory.intrinsic+json": {
              "type": "string"
            }
          },
          "metadata": {},
          "execution_count": 8
        }
      ]
    },
    {
      "cell_type": "code",
      "source": [
        "from nltk.tokenize import WordPunctTokenizer \n",
        "WordPunctTokenizer().tokenize(\"Hello christ, let's see how it's working\")"
      ],
      "metadata": {
        "colab": {
          "base_uri": "https://localhost:8080/"
        },
        "id": "Hn3qS4Vqa1oH",
        "outputId": "37b3fd2e-d90a-4525-e4ea-03c6988fb32d"
      },
      "execution_count": 9,
      "outputs": [
        {
          "output_type": "execute_result",
          "data": {
            "text/plain": [
              "['Hello',\n",
              " 'christ',\n",
              " ',',\n",
              " 'let',\n",
              " \"'\",\n",
              " 's',\n",
              " 'see',\n",
              " 'how',\n",
              " 'it',\n",
              " \"'\",\n",
              " 's',\n",
              " 'working']"
            ]
          },
          "metadata": {},
          "execution_count": 9
        }
      ]
    },
    {
      "cell_type": "code",
      "source": [
        "from nltk.tokenize import RegexpTokenizer\n",
        "tokenizer = RegexpTokenizer(\"[\\w']+\")\n",
        "text = \"NLP has matured it's use case in speech recognition over the years by allowing 355 clinicians to transcribe notes for useful EHR data entry.\"\n",
        "tokenizer.tokenize(text)"
      ],
      "metadata": {
        "colab": {
          "base_uri": "https://localhost:8080/"
        },
        "id": "kWB020LJa3vA",
        "outputId": "654b1a54-5302-40e1-98fa-5af108b70c6c"
      },
      "execution_count": 10,
      "outputs": [
        {
          "output_type": "execute_result",
          "data": {
            "text/plain": [
              "['NLP',\n",
              " 'has',\n",
              " 'matured',\n",
              " \"it's\",\n",
              " 'use',\n",
              " 'case',\n",
              " 'in',\n",
              " 'speech',\n",
              " 'recognition',\n",
              " 'over',\n",
              " 'the',\n",
              " 'years',\n",
              " 'by',\n",
              " 'allowing',\n",
              " '355',\n",
              " 'clinicians',\n",
              " 'to',\n",
              " 'transcribe',\n",
              " 'notes',\n",
              " 'for',\n",
              " 'useful',\n",
              " 'EHR',\n",
              " 'data',\n",
              " 'entry']"
            ]
          },
          "metadata": {},
          "execution_count": 10
        }
      ]
    },
    {
      "cell_type": "code",
      "source": [
        "def whitespace_tokenize(x):\n",
        "  from nltk.tokenize import WhitespaceTokenizer\n",
        "  tk = WhitespaceTokenizer()\n",
        "  y = tk.tokenize(x)\n",
        "  print('='*10,'White Space Tokenizer','='*10,'\\n')\n",
        "  whitespace_tokenize(\"health is wealth\")\n",
        "  print(y)"
      ],
      "metadata": {
        "id": "YQHwgu0fa-pj"
      },
      "execution_count": 11,
      "outputs": []
    },
    {
      "cell_type": "code",
      "source": [
        "from nltk.tokenize import regexp_tokenize\n",
        "sent = \"I like apple fruit but grape more\"\n",
        "dict_list = [\"apple fruit\",\"grape fruit\"]\n",
        "newdict = {}\n",
        "for item in dict_list:\n",
        "      dk = item.replace(\"apple\", \"strawberry\") \n",
        "      newdict[item] = dk\n",
        "for key,val in newdict.items():\n",
        "    if key in sent:\n",
        "        sent  = sent.replace(key,val)\n",
        "res = regexp_tokenize(sent, pattern='\\S+')\n",
        "print(res)"
      ],
      "metadata": {
        "colab": {
          "base_uri": "https://localhost:8080/"
        },
        "id": "ROZPGy7jbBrG",
        "outputId": "fe0d1f34-a802-4526-b2a5-1ea29b465972"
      },
      "execution_count": 12,
      "outputs": [
        {
          "output_type": "stream",
          "name": "stdout",
          "text": [
            "['I', 'like', 'strawberry', 'fruit', 'but', 'grape', 'more']\n"
          ]
        }
      ]
    },
    {
      "cell_type": "code",
      "source": [
        "import pandas as pd\n",
        "import matplotlib.pyplot as plt\n",
        "import matplotlib.colors as mcolors"
      ],
      "metadata": {
        "id": "swmikBj4bEBX"
      },
      "execution_count": 13,
      "outputs": []
    },
    {
      "cell_type": "code",
      "source": [
        "txt = \"\"\"The apple costs rs. 200 per kg. I have bought 3 kgs pf apple. so the total amount is rs 600.\"\"\"\n",
        "token = nltk.tokenize.word_tokenize(txt)\n",
        "fd = nltk.FreqDist(token)\n",
        "fd.plot(50,cumulative=False)"
      ],
      "metadata": {
        "colab": {
          "base_uri": "https://localhost:8080/",
          "height": 325
        },
        "id": "FhMQBsGubGS1",
        "outputId": "888ccb58-cc53-41cd-fec0-6c50708ef27b"
      },
      "execution_count": 14,
      "outputs": [
        {
          "output_type": "display_data",
          "data": {
            "text/plain": [
              "<Figure size 432x288 with 1 Axes>"
            ],
            "image/png": "[encoded data removed]"
          },
          "metadata": {
            "needs_background": "light"
          }
        },
        {
          "output_type": "execute_result",
          "data": {
            "text/plain": [
              "<matplotlib.axes._subplots.AxesSubplot at 0x7f8aae41ead0>"
            ]
          },
          "metadata": {},
          "execution_count": 14
        }
      ]
    },
    {
      "cell_type": "markdown",
      "source": [
        "Write a program to count word frequency and to remove stop words in your domain."
      ],
      "metadata": {
        "id": "Fgt4BGiVbPO1"
      }
    },
    {
      "cell_type": "code",
      "source": [
        "from nltk.corpus import stopwords\n",
        "from nltk.tokenize import word_tokenize\n",
        "from nltk.probability import FreqDist"
      ],
      "metadata": {
        "id": "u3dt4C_fbIJn"
      },
      "execution_count": 15,
      "outputs": []
    },
    {
      "cell_type": "code",
      "source": [
        "example = \"Natural language processing (NLP) is the ability for computers to understand Natural the latest human speech terms and text.\""
      ],
      "metadata": {
        "id": "037OFk01bXHs"
      },
      "execution_count": 16,
      "outputs": []
    },
    {
      "cell_type": "code",
      "source": [
        "stop_words = set(stopwords.words('english'))"
      ],
      "metadata": {
        "id": "gwiHSgshbaDb"
      },
      "execution_count": 17,
      "outputs": []
    },
    {
      "cell_type": "code",
      "source": [
        "import nltk\n",
        "nltk.download('stopwords')"
      ],
      "metadata": {
        "colab": {
          "base_uri": "https://localhost:8080/"
        },
        "id": "rPvtejwubb5l",
        "outputId": "ae5d040b-7815-433d-afba-afb04cd8439f"
      },
      "execution_count": 18,
      "outputs": [
        {
          "output_type": "stream",
          "name": "stderr",
          "text": [
            "[nltk_data] Downloading package stopwords to /root/nltk_data...\n",
            "[nltk_data]   Package stopwords is already up-to-date!\n"
          ]
        },
        {
          "output_type": "execute_result",
          "data": {
            "text/plain": [
              "True"
            ]
          },
          "metadata": {},
          "execution_count": 18
        }
      ]
    },
    {
      "cell_type": "code",
      "source": [
        "word_tokens = word_tokenize(example)"
      ],
      "metadata": {
        "id": "g4q-XsQmbdqw"
      },
      "execution_count": 19,
      "outputs": []
    },
    {
      "cell_type": "code",
      "source": [
        "filtered_sentence = [h for h in word_tokens if not h in stop_words]"
      ],
      "metadata": {
        "id": "ZPDHjK1ybfpl"
      },
      "execution_count": 20,
      "outputs": []
    },
    {
      "cell_type": "code",
      "source": [
        "for h in word_tokens:\n",
        "    if h not in stop_words:\n",
        "        filtered_sentence.append(h)\n",
        "\n",
        "print(filtered_sentence)"
      ],
      "metadata": {
        "colab": {
          "base_uri": "https://localhost:8080/"
        },
        "id": "iWga3w5-bhS_",
        "outputId": "96b049cd-85b1-4de2-d103-a11b93ba0499"
      },
      "execution_count": 21,
      "outputs": [
        {
          "output_type": "stream",
          "name": "stdout",
          "text": [
            "['Natural', 'language', 'processing', '(', 'NLP', ')', 'ability', 'computers', 'understand', 'Natural', 'latest', 'human', 'speech', 'terms', 'text', '.', 'Natural', 'language', 'processing', '(', 'NLP', ')', 'ability', 'computers', 'understand', 'Natural', 'latest', 'human', 'speech', 'terms', 'text', '.']\n"
          ]
        }
      ]
    },
    {
      "cell_type": "code",
      "source": [
        "wordfreq = []\n",
        "for h in filtered_sentence:\n",
        "    wordfreq.append(filtered_sentence.count(h))\n",
        "\n",
        "print(filtered_sentence,wordfreq)"
      ],
      "metadata": {
        "colab": {
          "base_uri": "https://localhost:8080/"
        },
        "id": "IavhCu9ZbjU9",
        "outputId": "6d09f6c1-20af-4b15-9a60-cad28a5e5608"
      },
      "execution_count": 22,
      "outputs": [
        {
          "output_type": "stream",
          "name": "stdout",
          "text": [
            "['Natural', 'language', 'processing', '(', 'NLP', ')', 'ability', 'computers', 'understand', 'Natural', 'latest', 'human', 'speech', 'terms', 'text', '.', 'Natural', 'language', 'processing', '(', 'NLP', ')', 'ability', 'computers', 'understand', 'Natural', 'latest', 'human', 'speech', 'terms', 'text', '.'] [4, 2, 2, 2, 2, 2, 2, 2, 2, 4, 2, 2, 2, 2, 2, 2, 4, 2, 2, 2, 2, 2, 2, 2, 2, 4, 2, 2, 2, 2, 2, 2]\n"
          ]
        }
      ]
    },
    {
      "cell_type": "code",
      "source": [
        "import pandas as pd\n",
        "import matplotlib.pyplot as plt\n",
        "import matplotlib.colors as mcolors"
      ],
      "metadata": {
        "id": "VyWLBaR2blY9"
      },
      "execution_count": 23,
      "outputs": []
    },
    {
      "cell_type": "code",
      "source": [
        "x = filtered_sentence\n",
        "y = wordfreq\n",
        "plt.plot(x,y)\n",
        "plt.xlabel(\"words\")\n",
        "plt.ylabel(\"count\")\n",
        "plt.title(\"graph\")\n",
        "plt.show()"
      ],
      "metadata": {
        "colab": {
          "base_uri": "https://localhost:8080/",
          "height": 295
        },
        "id": "lIXi4dCFbngq",
        "outputId": "e358a8ee-42b8-4c31-e2fd-d00f726ed1c3"
      },
      "execution_count": 24,
      "outputs": [
        {
          "output_type": "display_data",
          "data": {
            "text/plain": [
              "<Figure size 432x288 with 1 Axes>"
            ],
            "image/png": "[encoded data removed]"
          },
          "metadata": {
            "needs_background": "light"
          }
        }
      ]
    },
    {
      "cell_type": "code",
      "source": [
        "x = filtered_sentence\n",
        "y = wordfreq\n",
        "plt.figure(figsize=(20,20))\n",
        "plt.bar(x,y)\n",
        "plt.xlabel(\"words\")\n",
        "plt.ylabel(\"count\")\n",
        "plt.title(\"graph\")\n",
        "plt.show()"
      ],
      "metadata": {
        "colab": {
          "base_uri": "https://localhost:8080/",
          "height": 1000
        },
        "id": "_xAPrF_obpgZ",
        "outputId": "05a43b79-0914-4668-84a4-14568651194f"
      },
      "execution_count": 25,
      "outputs": [
        {
          "output_type": "display_data",
          "data": {
            "text/plain": [
              "<Figure size 1440x1440 with 1 Axes>"
            ],
            "image/png": "[encoded data removed]"
          },
          "metadata": {
            "needs_background": "light"
          }
        }
      ]
    },
    {
      "cell_type": "markdown",
      "source": [
        "1) Use a minimum of 5 Stemmers(Specific to the language) and maximum N 2) Compare each output with any one of the stemmers used before( English:Porter stemmer) 3)Interpret the inflection for each output.\n",
        "\n",
        "Examples(Specific to the language):\n",
        "\n",
        "ISRI stemmer : An Arabic language stemmer RSLP stemmer: A Portuguese language stemmer"
      ],
      "metadata": {
        "id": "De9jAXj4cfN4"
      }
    },
    {
      "cell_type": "markdown",
      "source": [
        "1. Porter Stemming"
      ],
      "metadata": {
        "id": "a7B_9jN0ci69"
      }
    },
    {
      "cell_type": "code",
      "source": [
        "from nltk.stem import PorterStemmer\n",
        "porter = PorterStemmer()\n",
        "words = ['Connects','Connecting','Connections','Connected','Connection','Connectings','Connect']\n",
        "for word in words:\n",
        "    print(word,\"--->\",porter.stem(word))"
      ],
      "metadata": {
        "colab": {
          "base_uri": "https://localhost:8080/"
        },
        "id": "TthPHKwobuJ9",
        "outputId": "d27f523e-a5ea-46d0-9900-53c6621cb028"
      },
      "execution_count": 26,
      "outputs": [
        {
          "output_type": "stream",
          "name": "stdout",
          "text": [
            "Connects ---> connect\n",
            "Connecting ---> connect\n",
            "Connections ---> connect\n",
            "Connected ---> connect\n",
            "Connection ---> connect\n",
            "Connectings ---> connect\n",
            "Connect ---> connect\n"
          ]
        }
      ]
    },
    {
      "cell_type": "markdown",
      "source": [
        "2. Snowball Stemmer"
      ],
      "metadata": {
        "id": "c85qzrI9cpE1"
      }
    },
    {
      "cell_type": "code",
      "source": [
        "from nltk.stem import SnowballStemmer\n",
        "snowball = SnowballStemmer(language='english')\n",
        "words = ['generous','generate','generously','generation']\n",
        "for word in words:\n",
        "    print(word,\"--->\",snowball.stem(word))"
      ],
      "metadata": {
        "colab": {
          "base_uri": "https://localhost:8080/"
        },
        "id": "uaAPrOJ-clZg",
        "outputId": "1ee4f849-e644-4925-ce4e-739fe0297ce9"
      },
      "execution_count": 27,
      "outputs": [
        {
          "output_type": "stream",
          "name": "stdout",
          "text": [
            "generous ---> generous\n",
            "generate ---> generat\n",
            "generously ---> generous\n",
            "generation ---> generat\n"
          ]
        }
      ]
    },
    {
      "cell_type": "markdown",
      "source": [
        "3. Lancaster Stemmer\n"
      ],
      "metadata": {
        "id": "r_wKUTMfcvPx"
      }
    },
    {
      "cell_type": "code",
      "source": [
        "from nltk.stem import LancasterStemmer\n",
        "lancaster = LancasterStemmer()\n",
        "words = ['eating','eats','eaten','puts','putting']\n",
        "for word in words:\n",
        "    print(word,\"--->\",lancaster.stem(word))"
      ],
      "metadata": {
        "colab": {
          "base_uri": "https://localhost:8080/"
        },
        "id": "CZURDPnCcr7H",
        "outputId": "721dbd2d-d3ed-4a44-d5d0-30d0667cf618"
      },
      "execution_count": 28,
      "outputs": [
        {
          "output_type": "stream",
          "name": "stdout",
          "text": [
            "eating ---> eat\n",
            "eats ---> eat\n",
            "eaten ---> eat\n",
            "puts ---> put\n",
            "putting ---> put\n"
          ]
        }
      ]
    },
    {
      "cell_type": "markdown",
      "source": [
        "4. Regexp Stemmer"
      ],
      "metadata": {
        "id": "NehmG01vc10i"
      }
    },
    {
      "cell_type": "code",
      "source": [
        "from nltk.stem import RegexpStemmer\n",
        "regexp = RegexpStemmer('ing$|s$|e$|able$', min=4)\n",
        "words = ['mass','was','seee','computer','advisable']\n",
        "for word in words:\n",
        "    print(word,\"--->\",regexp.stem(word))"
      ],
      "metadata": {
        "colab": {
          "base_uri": "https://localhost:8080/"
        },
        "id": "mOxlX5_Ncxyl",
        "outputId": "1a78a881-a2b1-42cd-db24-ac5f6a325635"
      },
      "execution_count": 29,
      "outputs": [
        {
          "output_type": "stream",
          "name": "stdout",
          "text": [
            "mass ---> mas\n",
            "was ---> was\n",
            "seee ---> see\n",
            "computer ---> computer\n",
            "advisable ---> advis\n"
          ]
        }
      ]
    },
    {
      "cell_type": "markdown",
      "source": [
        "German"
      ],
      "metadata": {
        "id": "58KLcqByc7XN"
      }
    },
    {
      "cell_type": "code",
      "source": [
        "from nltk.stem.snowball import GermanStemmer "
      ],
      "metadata": {
        "id": "mbMoM4Ncc4w-"
      },
      "execution_count": 30,
      "outputs": []
    },
    {
      "cell_type": "code",
      "source": [
        "german_st = GermanStemmer()"
      ],
      "metadata": {
        "id": "HqJrAbZUc-J3"
      },
      "execution_count": 31,
      "outputs": []
    },
    {
      "cell_type": "code",
      "source": [
        "token_sample = [\"Schreiben\",\"geschrieben\"]"
      ],
      "metadata": {
        "id": "sDuodC2UdAFJ"
      },
      "execution_count": 32,
      "outputs": []
    },
    {
      "cell_type": "markdown",
      "source": [
        "Here we have taken some sample words in german whose english translation is:\n",
        "\n",
        "Schreiben - writing\n",
        "\n",
        "geschrieben - written"
      ],
      "metadata": {
        "id": "zpo90utAdFt3"
      }
    },
    {
      "cell_type": "code",
      "source": [
        "stem_words = [german_st.stem(words) for words in token_sample]\n",
        "print(\"Print the output after stemming:\",stem_words)"
      ],
      "metadata": {
        "colab": {
          "base_uri": "https://localhost:8080/"
        },
        "id": "lYlEQFSJdCbN",
        "outputId": "dc7dda9b-6638-4d76-c01c-997fded5a201"
      },
      "execution_count": 33,
      "outputs": [
        {
          "output_type": "stream",
          "name": "stdout",
          "text": [
            "Print the output after stemming: ['schreib', 'geschrieb']\n"
          ]
        }
      ]
    },
    {
      "cell_type": "markdown",
      "source": [
        "Here we can see the output as, 'schreib', 'geschrieb' whose english translation is:\n",
        "\n",
        "schreib - write\n",
        "\n",
        "geschrieb - wrote\n",
        "\n",
        "So we can see the difference between our sample token words and results after applying stremming on that words."
      ],
      "metadata": {
        "id": "bPKfapP4dLqr"
      }
    },
    {
      "cell_type": "markdown",
      "source": [
        "Spanish"
      ],
      "metadata": {
        "id": "6YdlbkbWdPAS"
      }
    },
    {
      "cell_type": "code",
      "source": [
        "from nltk.stem.snowball import SpanishStemmer "
      ],
      "metadata": {
        "id": "GXjp8UCpdH_T"
      },
      "execution_count": 34,
      "outputs": []
    },
    {
      "cell_type": "code",
      "source": [
        "spanish_st = SpanishStemmer()"
      ],
      "metadata": {
        "id": "S_RT_-IndR5L"
      },
      "execution_count": 35,
      "outputs": []
    },
    {
      "cell_type": "code",
      "source": [
        "token_sample = [\"escritura\",\"escrito\"]"
      ],
      "metadata": {
        "id": "fdcb-KFTdTpL"
      },
      "execution_count": 36,
      "outputs": []
    },
    {
      "cell_type": "code",
      "source": [
        "stem_words = [spanish_st.stem(words) for words in token_sample]\n",
        "print(\"Print the output after stemming:\",stem_words)"
      ],
      "metadata": {
        "colab": {
          "base_uri": "https://localhost:8080/"
        },
        "id": "tLHBdRvLdVhf",
        "outputId": "23108704-777a-4fa6-810d-7d13207d7c82"
      },
      "execution_count": 37,
      "outputs": [
        {
          "output_type": "stream",
          "name": "stdout",
          "text": [
            "Print the output after stemming: ['escritur', 'escrit']\n"
          ]
        }
      ]
    },
    {
      "cell_type": "markdown",
      "source": [
        "Arabic"
      ],
      "metadata": {
        "id": "izs6p36odZcM"
      }
    },
    {
      "cell_type": "code",
      "source": [
        "from nltk.stem.snowball import ArabicStemmer "
      ],
      "metadata": {
        "id": "C-COtlWXdXQs"
      },
      "execution_count": 38,
      "outputs": []
    },
    {
      "cell_type": "code",
      "source": [
        "arabic_st = ArabicStemmer()"
      ],
      "metadata": {
        "id": "LXPAwPWSdb9X"
      },
      "execution_count": 39,
      "outputs": []
    },
    {
      "cell_type": "code",
      "source": [
        "token_sample = [\"جاري الكتابة\",\"جاري الكتابة\"]"
      ],
      "metadata": {
        "id": "zAK0eK_Pdfci"
      },
      "execution_count": 40,
      "outputs": []
    },
    {
      "cell_type": "code",
      "source": [
        "stem_words = [arabic_st.stem(words) for words in token_sample]\n",
        "print(\"Print the output after stemming:\",stem_words)"
      ],
      "metadata": {
        "colab": {
          "base_uri": "https://localhost:8080/"
        },
        "id": "JN84o1TRdhPJ",
        "outputId": "f0af4edc-b487-4229-80af-c97ac63dcb3c"
      },
      "execution_count": 41,
      "outputs": [
        {
          "output_type": "stream",
          "name": "stdout",
          "text": [
            "Print the output after stemming: ['جاري الكتاب', 'جاري الكتاب']\n"
          ]
        }
      ]
    },
    {
      "cell_type": "markdown",
      "source": [
        "Portugese"
      ],
      "metadata": {
        "id": "ymo37MQsdlRb"
      }
    },
    {
      "cell_type": "code",
      "source": [
        "from nltk.stem.snowball import PortugueseStemmer "
      ],
      "metadata": {
        "id": "WeQTrDL4LLWx"
      },
      "execution_count": 42,
      "outputs": []
    },
    {
      "cell_type": "code",
      "source": [
        "Portuguese_st = PortugueseStemmer()"
      ],
      "metadata": {
        "id": "AF49cJLLLLWy"
      },
      "execution_count": 43,
      "outputs": []
    },
    {
      "cell_type": "code",
      "source": [
        "token_sample = [\"escrita\",\"escrito\"]"
      ],
      "metadata": {
        "id": "-HaTgrLDLLWz"
      },
      "execution_count": 44,
      "outputs": []
    },
    {
      "cell_type": "code",
      "source": [
        "stem_words = [Portuguese_st.stem(words) for words in token_sample]\n",
        "print(\"Print the output after stemming:\",stem_words)"
      ],
      "metadata": {
        "colab": {
          "base_uri": "https://localhost:8080/"
        },
        "outputId": "7f63b69f-7a17-4dbb-a64e-0ec260b274f1",
        "id": "3Yv7I4giLLWz"
      },
      "execution_count": 45,
      "outputs": [
        {
          "output_type": "stream",
          "name": "stdout",
          "text": [
            "Print the output after stemming: ['escrit', 'escrit']\n"
          ]
        }
      ]
    },
    {
      "cell_type": "markdown",
      "source": [
        "Write a program for lemmatizing words Using WordNet"
      ],
      "metadata": {
        "id": "UkzWx1Dcelle"
      }
    },
    {
      "cell_type": "code",
      "source": [
        "import nltk\n",
        "nltk.download('wordnet')\n",
        "nltk.download('omw-1.4')\n",
        "nltk.download('punkt')\n",
        "from nltk.stem import WordNetLemmatizer\n",
        "\n",
        "# Create WordNetLemmatizer object\n",
        "wnl = WordNetLemmatizer()\n",
        "\n",
        "# single word lemmatization examples\n",
        "list1 = ['patients','hospitals','sickness','health','pain-management','doctor','nurse','medicine','cure','prescription','health-care']\n",
        "for words in list1:\n",
        "\tprint(words + \" ---> \" + wnl.lemmatize(words)) "
      ],
      "metadata": {
        "colab": {
          "base_uri": "https://localhost:8080/"
        },
        "id": "GJIx9oSIenaF",
        "outputId": "6f672746-cd36-4958-f931-9b794ce856ef"
      },
      "execution_count": 46,
      "outputs": [
        {
          "output_type": "stream",
          "name": "stderr",
          "text": [
            "[nltk_data] Downloading package wordnet to /root/nltk_data...\n",
            "[nltk_data]   Package wordnet is already up-to-date!\n",
            "[nltk_data] Downloading package omw-1.4 to /root/nltk_data...\n",
            "[nltk_data]   Package omw-1.4 is already up-to-date!\n",
            "[nltk_data] Downloading package punkt to /root/nltk_data...\n",
            "[nltk_data]   Package punkt is already up-to-date!\n"
          ]
        },
        {
          "output_type": "stream",
          "name": "stdout",
          "text": [
            "patients ---> patient\n",
            "hospitals ---> hospital\n",
            "sickness ---> sickness\n",
            "health ---> health\n",
            "pain-management ---> pain-management\n",
            "doctor ---> doctor\n",
            "nurse ---> nurse\n",
            "medicine ---> medicine\n",
            "cure ---> cure\n",
            "prescription ---> prescription\n",
            "health-care ---> health-care\n"
          ]
        }
      ]
    },
    {
      "cell_type": "code",
      "source": [
        "# sentence lemmatization examples\n",
        "string = 'Using advanced medical algorithms, machine learning in healthcare and NLP technology services have the potential to harness relevant insights and concepts from data that was previously considered buried in text form. NLP in healthcare media can accurately give voice to the unstructured data of the healthcare universe, giving incredible insight into understanding quality, improving methods, and better results for patients.'\n",
        "\n",
        "# Converting String into tokens\n",
        "list2 = nltk.word_tokenize(string)\n",
        "print(list2)\n",
        "\n",
        "lemmatized_string = ' '.join([wnl.lemmatize(words) for words in list2])\n",
        "\n",
        "print(lemmatized_string)"
      ],
      "metadata": {
        "colab": {
          "base_uri": "https://localhost:8080/"
        },
        "id": "d_ahVxXqet6G",
        "outputId": "f9628320-11e1-48ea-ed97-c70b339527a2"
      },
      "execution_count": 47,
      "outputs": [
        {
          "output_type": "stream",
          "name": "stdout",
          "text": [
            "['Using', 'advanced', 'medical', 'algorithms', ',', 'machine', 'learning', 'in', 'healthcare', 'and', 'NLP', 'technology', 'services', 'have', 'the', 'potential', 'to', 'harness', 'relevant', 'insights', 'and', 'concepts', 'from', 'data', 'that', 'was', 'previously', 'considered', 'buried', 'in', 'text', 'form', '.', 'NLP', 'in', 'healthcare', 'media', 'can', 'accurately', 'give', 'voice', 'to', 'the', 'unstructured', 'data', 'of', 'the', 'healthcare', 'universe', ',', 'giving', 'incredible', 'insight', 'into', 'understanding', 'quality', ',', 'improving', 'methods', ',', 'and', 'better', 'results', 'for', 'patients', '.']\n",
            "Using advanced medical algorithm , machine learning in healthcare and NLP technology service have the potential to harness relevant insight and concept from data that wa previously considered buried in text form . NLP in healthcare medium can accurately give voice to the unstructured data of the healthcare universe , giving incredible insight into understanding quality , improving method , and better result for patient .\n"
          ]
        }
      ]
    },
    {
      "cell_type": "markdown",
      "source": [
        "Write a program to differentiate stemming and lemmatizing words"
      ],
      "metadata": {
        "id": "azh7Ytufe5e1"
      }
    },
    {
      "cell_type": "code",
      "execution_count": 48,
      "metadata": {
        "id": "-5uepQu_IX5m"
      },
      "outputs": [],
      "source": [
        "from nltk.stem import PorterStemmer"
      ]
    },
    {
      "cell_type": "code",
      "source": [
        "from nltk.stem import SnowballStemmer"
      ],
      "metadata": {
        "id": "ntIRiVL9TU8x"
      },
      "execution_count": 49,
      "outputs": []
    },
    {
      "cell_type": "code",
      "source": [
        "from nltk.stem import LancasterStemmer"
      ],
      "metadata": {
        "id": "Q9IiSji0TdX_"
      },
      "execution_count": 50,
      "outputs": []
    },
    {
      "cell_type": "code",
      "source": [
        "import nltk\n",
        "nltk.download('wordnet')\n",
        "nltk.download('omw-1.4')\n",
        "nltk.download('punkt')\n",
        "from nltk.stem import WordNetLemmatizer"
      ],
      "metadata": {
        "colab": {
          "base_uri": "https://localhost:8080/"
        },
        "id": "oNG0TFBJU0cC",
        "outputId": "5be9d1cb-9c6c-4a58-80c8-387e36dfe545"
      },
      "execution_count": 51,
      "outputs": [
        {
          "output_type": "stream",
          "name": "stderr",
          "text": [
            "[nltk_data] Downloading package wordnet to /root/nltk_data...\n",
            "[nltk_data]   Package wordnet is already up-to-date!\n",
            "[nltk_data] Downloading package omw-1.4 to /root/nltk_data...\n",
            "[nltk_data]   Package omw-1.4 is already up-to-date!\n",
            "[nltk_data] Downloading package punkt to /root/nltk_data...\n",
            "[nltk_data]   Package punkt is already up-to-date!\n"
          ]
        }
      ]
    },
    {
      "cell_type": "code",
      "source": [
        "wnl = WordNetLemmatizer()"
      ],
      "metadata": {
        "id": "6CYYhQPiU-0B"
      },
      "execution_count": 52,
      "outputs": []
    },
    {
      "cell_type": "code",
      "source": [
        "porter = PorterStemmer()"
      ],
      "metadata": {
        "id": "d-NokuyrVpAd"
      },
      "execution_count": 53,
      "outputs": []
    },
    {
      "cell_type": "code",
      "source": [
        "snow = SnowballStemmer('english')"
      ],
      "metadata": {
        "id": "AgkVzzNjTmi5"
      },
      "execution_count": 54,
      "outputs": []
    },
    {
      "cell_type": "code",
      "source": [
        "snowy = SnowballStemmer('spanish')"
      ],
      "metadata": {
        "id": "zgRUgW0UWvhF"
      },
      "execution_count": 55,
      "outputs": []
    },
    {
      "cell_type": "code",
      "source": [
        "lanc = LancasterStemmer()"
      ],
      "metadata": {
        "id": "QRe5hn8oT0FL"
      },
      "execution_count": 56,
      "outputs": []
    },
    {
      "cell_type": "code",
      "source": [
        "word_list = [\"friend\", \"friendship\", \"friends\", \"friendships\",\"stabil\",\"destabilize\",\"misunderstanding\",'classrooms', 'babies', 'dogs', 'puppies']\n",
        "print(\"{0:20}{1:20}{2:20}\".format(\"Word\",\"Stemmer\",\"lemmatization\"))\n",
        "for word in word_list:\n",
        "  print(\"{0:20}{1:20}{2:20}\".format(word,snow.stem(word),wnl.lemmatize(word)))\n"
      ],
      "metadata": {
        "colab": {
          "base_uri": "https://localhost:8080/"
        },
        "id": "5d3VPtiqfTGZ",
        "outputId": "bde69f9d-9936-4df9-8028-449b4b8dba71"
      },
      "execution_count": 57,
      "outputs": [
        {
          "output_type": "stream",
          "name": "stdout",
          "text": [
            "Word                Stemmer             lemmatization       \n",
            "friend              friend              friend              \n",
            "friendship          friendship          friendship          \n",
            "friends             friend              friend              \n",
            "friendships         friendship          friendship          \n",
            "stabil              stabil              stabil              \n",
            "destabilize         destabil            destabilize         \n",
            "misunderstanding    misunderstand       misunderstanding    \n",
            "classrooms          classroom           classroom           \n",
            "babies              babi                baby                \n",
            "dogs                dog                 dog                 \n",
            "puppies             puppi               puppy               \n"
          ]
        }
      ]
    },
    {
      "cell_type": "code",
      "source": [
        "word_list = [\"amigo\", \"amistad\", \"amigas\",\"estabilidad\",'bebés', 'perras', 'cachorras']\n",
        "print(\"{0:20}{1:20}{2:20}\".format(\"Word\",\"Stemmer\",\"lemmatization\"))\n",
        "for word in word_list:\n",
        "  print(\"{0:20}{1:20}{2:20}\".format(word,snowy.stem(word),wnl.lemmatize(word)))"
      ],
      "metadata": {
        "colab": {
          "base_uri": "https://localhost:8080/"
        },
        "id": "Ol1Rgh1iW04W",
        "outputId": "1516cba1-1e38-4009-e873-2b7c222c1a62"
      },
      "execution_count": 58,
      "outputs": [
        {
          "output_type": "stream",
          "name": "stdout",
          "text": [
            "Word                Stemmer             lemmatization       \n",
            "amigo               amig                amigo               \n",
            "amistad             amist               amistad             \n",
            "amigas              amig                amigas              \n",
            "estabilidad         estabil             estabilidad         \n",
            "bebés               bebes               bebés               \n",
            "perras              perr                perras              \n",
            "cachorras           cachorr             cachorras           \n"
          ]
        }
      ]
    },
    {
      "cell_type": "code",
      "source": [
        "word_list = [\"friend\", \"friendship\", \"friends\", \"friendships\",\"stabil\",\"destabilize\",\"misunderstanding\",'classrooms', 'babies', 'dogs', 'puppies']\n",
        "print(\"{0:20}{1:20}{2:20}\".format(\"Word\",\"Stemmer\",\"lemmatization\"))\n",
        "for word in word_list:\n",
        "  print(\"{0:20}{1:20}{2:20}\".format(word,lanc.stem(word),wnl.lemmatize(word)))\n"
      ],
      "metadata": {
        "colab": {
          "base_uri": "https://localhost:8080/"
        },
        "id": "7J4AHkA_fnaV",
        "outputId": "af2d3560-aec4-407f-8266-2233128a0a0b"
      },
      "execution_count": 59,
      "outputs": [
        {
          "output_type": "stream",
          "name": "stdout",
          "text": [
            "Word                Stemmer             lemmatization       \n",
            "friend              friend              friend              \n",
            "friendship          friend              friendship          \n",
            "friends             friend              friend              \n",
            "friendships         friend              friendship          \n",
            "stabil              stabl               stabil              \n",
            "destabilize         dest                destabilize         \n",
            "misunderstanding    misunderstand       misunderstanding    \n",
            "classrooms          classroom           classroom           \n",
            "babies              baby                baby                \n",
            "dogs                dog                 dog                 \n",
            "puppies             puppy               puppy               \n"
          ]
        }
      ]
    },
    {
      "cell_type": "markdown",
      "source": [
        "Write a program for POS Tagging or Word Embedding"
      ],
      "metadata": {
        "id": "P8AqCJEI7wqS"
      }
    },
    {
      "cell_type": "code",
      "source": [
        "import nltk\n",
        "nltk.download('stopwords')"
      ],
      "metadata": {
        "colab": {
          "base_uri": "https://localhost:8080/"
        },
        "id": "Nxx3ixFN77cS",
        "outputId": "5aa5a01d-7054-4903-acd5-71a8269d4ffa"
      },
      "execution_count": 2,
      "outputs": [
        {
          "output_type": "stream",
          "name": "stderr",
          "text": [
            "[nltk_data] Downloading package stopwords to /root/nltk_data...\n",
            "[nltk_data]   Unzipping corpora/stopwords.zip.\n"
          ]
        },
        {
          "output_type": "execute_result",
          "data": {
            "text/plain": [
              "True"
            ]
          },
          "metadata": {},
          "execution_count": 2
        }
      ]
    },
    {
      "cell_type": "code",
      "source": [
        "import nltk\n",
        "from nltk.corpus import stopwords\n",
        "from nltk.tokenize import word_tokenize, sent_tokenize\n",
        "stop_words = set(stopwords.words('english'))"
      ],
      "metadata": {
        "id": "-E2eQmdL7xfq"
      },
      "execution_count": 3,
      "outputs": []
    },
    {
      "cell_type": "code",
      "source": [
        "import nltk\n",
        "nltk.download('punkt')"
      ],
      "metadata": {
        "colab": {
          "base_uri": "https://localhost:8080/"
        },
        "id": "hI8c9Wng8BG0",
        "outputId": "be9dc27b-6a0a-4637-a357-03d8d242633f"
      },
      "execution_count": 4,
      "outputs": [
        {
          "output_type": "stream",
          "name": "stderr",
          "text": [
            "[nltk_data] Downloading package punkt to /root/nltk_data...\n",
            "[nltk_data]   Unzipping tokenizers/punkt.zip.\n"
          ]
        },
        {
          "output_type": "execute_result",
          "data": {
            "text/plain": [
              "True"
            ]
          },
          "metadata": {},
          "execution_count": 4
        }
      ]
    },
    {
      "cell_type": "code",
      "source": [
        "txt = \"Cricket is the world's most popular bat-and-ball game,It is played between two teams of eleven players each on a field at the center of which is a 22-yard pitch with a wicket at each end, Each comprising two bails balanced on three stumps.\""
      ],
      "metadata": {
        "id": "iCYunL5z8IdW"
      },
      "execution_count": 5,
      "outputs": []
    },
    {
      "cell_type": "code",
      "source": [
        "tokenized = sent_tokenize(txt)\n",
        "for i in tokenized:\n",
        "     wordsList = nltk.word_tokenize(i)"
      ],
      "metadata": {
        "id": "8QoxaZPl8ScR"
      },
      "execution_count": 6,
      "outputs": []
    },
    {
      "cell_type": "code",
      "source": [
        "# removing stop words from wordList\n",
        "wordsList = [w for w in wordsList if not w in stop_words]"
      ],
      "metadata": {
        "id": "KEXrLrr98Uny"
      },
      "execution_count": 7,
      "outputs": []
    },
    {
      "cell_type": "code",
      "source": [
        "import nltk\n",
        "nltk.download('averaged_perceptron_tagger')"
      ],
      "metadata": {
        "colab": {
          "base_uri": "https://localhost:8080/"
        },
        "id": "KdyxNYxo8W7x",
        "outputId": "e1d75ded-b54d-4a0e-feb0-99af29b78651"
      },
      "execution_count": 8,
      "outputs": [
        {
          "output_type": "stream",
          "name": "stderr",
          "text": [
            "[nltk_data] Downloading package averaged_perceptron_tagger to\n",
            "[nltk_data]     /root/nltk_data...\n",
            "[nltk_data]   Unzipping taggers/averaged_perceptron_tagger.zip.\n"
          ]
        },
        {
          "output_type": "execute_result",
          "data": {
            "text/plain": [
              "True"
            ]
          },
          "metadata": {},
          "execution_count": 8
        }
      ]
    },
    {
      "cell_type": "code",
      "source": [
        "#  Using a Tagger. Which is part-of-speech\n",
        "# tagger or POS-tagger.\n",
        "tagged = nltk.pos_tag(wordsList)\n",
        "print(tagged)"
      ],
      "metadata": {
        "colab": {
          "base_uri": "https://localhost:8080/"
        },
        "id": "sx5Qak5N8Y1B",
        "outputId": "56ffac5a-34a2-424a-efbc-390c81cdc4e7"
      },
      "execution_count": 9,
      "outputs": [
        {
          "output_type": "stream",
          "name": "stdout",
          "text": [
            "[('Cricket', 'NNP'), ('world', 'NN'), (\"'s\", 'POS'), ('popular', 'JJ'), ('bat-and-ball', 'JJ'), ('game', 'NN'), (',', ','), ('It', 'PRP'), ('played', 'VBD'), ('two', 'CD'), ('teams', 'NNS'), ('eleven', 'VBP'), ('players', 'NNS'), ('field', 'NN'), ('center', 'NN'), ('22-yard', 'JJ'), ('pitch', 'NN'), ('wicket', 'NN'), ('end', 'NN'), (',', ','), ('Each', 'DT'), ('comprising', 'VBG'), ('two', 'CD'), ('bails', 'NNS'), ('balanced', 'VBD'), ('three', 'CD'), ('stumps', 'NNS'), ('.', '.')]\n"
          ]
        }
      ]
    },
    {
      "cell_type": "code",
      "source": [
        "import spacy\n",
        "sp = spacy.load('en_core_web_sm')\n",
        "sen = sp(u\"I like to play football. I hated it in my childhood though\")\n",
        "print(sen.text)\n",
        "print(sen[7].text)\n",
        "print(sen[7].pos_)\n",
        "print(\"-------------------\")\n",
        "print(sen[4].text)\n",
        "print(sen[4].pos_)\n",
        "print(\"-------------------\")\n",
        "print(sen[12].text)\n",
        "print(sen[12].pos_)\n"
      ],
      "metadata": {
        "colab": {
          "base_uri": "https://localhost:8080/"
        },
        "id": "imGa4RaI8bTM",
        "outputId": "9fbeb9a9-a50c-4964-bbb5-204806c130fa"
      },
      "execution_count": 10,
      "outputs": [
        {
          "output_type": "stream",
          "name": "stdout",
          "text": [
            "I like to play football. I hated it in my childhood though\n",
            "hated\n",
            "VERB\n",
            "-------------------\n",
            "football\n",
            "NOUN\n",
            "-------------------\n",
            "though\n",
            "ADV\n"
          ]
        }
      ]
    },
    {
      "cell_type": "code",
      "source": [
        "print(spacy.explain(sen[7].tag_))"
      ],
      "metadata": {
        "colab": {
          "base_uri": "https://localhost:8080/"
        },
        "id": "-MQifPY385_q",
        "outputId": "1b3f577c-76a8-4198-e18c-72b98f1bc916"
      },
      "execution_count": 11,
      "outputs": [
        {
          "output_type": "stream",
          "name": "stdout",
          "text": [
            "verb, past tense\n"
          ]
        }
      ]
    },
    {
      "cell_type": "code",
      "source": [
        "for word in sen:\n",
        "  print(f'{word.text:{12}} {word.tag_:{8}}  {spacy.explain(word.tag_)}')"
      ],
      "metadata": {
        "colab": {
          "base_uri": "https://localhost:8080/"
        },
        "id": "C2G8va1X89Te",
        "outputId": "76f5c4e1-58d0-4c70-8d4e-97cdddc6e052"
      },
      "execution_count": 12,
      "outputs": [
        {
          "output_type": "stream",
          "name": "stdout",
          "text": [
            "I            PRP       pronoun, personal\n",
            "like         VBP       verb, non-3rd person singular present\n",
            "to           TO        infinitival \"to\"\n",
            "play         VB        verb, base form\n",
            "football     NN        noun, singular or mass\n",
            ".            .         punctuation mark, sentence closer\n",
            "I            PRP       pronoun, personal\n",
            "hated        VBD       verb, past tense\n",
            "it           PRP       pronoun, personal\n",
            "in           IN        conjunction, subordinating or preposition\n",
            "my           PRP$      pronoun, possessive\n",
            "childhood    NN        noun, singular or mass\n",
            "though       RB        adverb\n"
          ]
        }
      ]
    },
    {
      "cell_type": "markdown",
      "source": [
        "Visualizing Parts of Speech Tags"
      ],
      "metadata": {
        "id": "_6lQJYR89C9E"
      }
    },
    {
      "cell_type": "code",
      "source": [
        "from spacy import displacy\n",
        "sen = sp(\"I like to play cricket. Virat is the skipper of ICT\")\n",
        "displacy.render(sen, style='dep', jupyter=True, options={'distance':85})"
      ],
      "metadata": {
        "colab": {
          "base_uri": "https://localhost:8080/",
          "height": 244
        },
        "id": "Y6VaJ7Mr8_ux",
        "outputId": "894bfba2-31ab-46ae-edd3-59a054fc4ea3"
      },
      "execution_count": 13,
      "outputs": [
        {
          "output_type": "display_data",
          "data": {
            "text/plain": [
              "<IPython.core.display.HTML object>"
            ],
            "text/html": [
              "<span class=\"tex2jax_ignore\"><svg xmlns=\"http://www.w3.org/2000/svg\" xmlns:xlink=\"http://www.w3.org/1999/xlink\" xml:lang=\"en\" id=\"1d3c22b03b4e415fbc78781a81fd09f4-0\" class=\"displacy\" width=\"985\" height=\"222.0\" direction=\"ltr\" style=\"max-width: none; height: 222.0px; color: #000000; background: #ffffff; font-family: Arial; direction: ltr\">\n",
              "<text class=\"displacy-token\" fill=\"currentColor\" text-anchor=\"middle\" y=\"132.0\">\n",
              "    <tspan class=\"displacy-word\" fill=\"currentColor\" x=\"50\">I</tspan>\n",
              "    <tspan class=\"displacy-tag\" dy=\"2em\" fill=\"currentColor\" x=\"50\">PRON</tspan>\n",
              "</text>\n",
              "\n",
              "<text class=\"displacy-token\" fill=\"currentColor\" text-anchor=\"middle\" y=\"132.0\">\n",
              "    <tspan class=\"displacy-word\" fill=\"currentColor\" x=\"135\">like</tspan>\n",
              "    <tspan class=\"displacy-tag\" dy=\"2em\" fill=\"currentColor\" x=\"135\">VERB</tspan>\n",
              "</text>\n",
              "\n",
              "<text class=\"displacy-token\" fill=\"currentColor\" text-anchor=\"middle\" y=\"132.0\">\n",
              "    <tspan class=\"displacy-word\" fill=\"currentColor\" x=\"220\">to</tspan>\n",
              "    <tspan class=\"displacy-tag\" dy=\"2em\" fill=\"currentColor\" x=\"220\">PART</tspan>\n",
              "</text>\n",
              "\n",
              "<text class=\"displacy-token\" fill=\"currentColor\" text-anchor=\"middle\" y=\"132.0\">\n",
              "    <tspan class=\"displacy-word\" fill=\"currentColor\" x=\"305\">play</tspan>\n",
              "    <tspan class=\"displacy-tag\" dy=\"2em\" fill=\"currentColor\" x=\"305\">VERB</tspan>\n",
              "</text>\n",
              "\n",
              "<text class=\"displacy-token\" fill=\"currentColor\" text-anchor=\"middle\" y=\"132.0\">\n",
              "    <tspan class=\"displacy-word\" fill=\"currentColor\" x=\"390\">cricket.</tspan>\n",
              "    <tspan class=\"displacy-tag\" dy=\"2em\" fill=\"currentColor\" x=\"390\">NOUN</tspan>\n",
              "</text>\n",
              "\n",
              "<text class=\"displacy-token\" fill=\"currentColor\" text-anchor=\"middle\" y=\"132.0\">\n",
              "    <tspan class=\"displacy-word\" fill=\"currentColor\" x=\"475\">Virat</tspan>\n",
              "    <tspan class=\"displacy-tag\" dy=\"2em\" fill=\"currentColor\" x=\"475\">PROPN</tspan>\n",
              "</text>\n",
              "\n",
              "<text class=\"displacy-token\" fill=\"currentColor\" text-anchor=\"middle\" y=\"132.0\">\n",
              "    <tspan class=\"displacy-word\" fill=\"currentColor\" x=\"560\">is</tspan>\n",
              "    <tspan class=\"displacy-tag\" dy=\"2em\" fill=\"currentColor\" x=\"560\">AUX</tspan>\n",
              "</text>\n",
              "\n",
              "<text class=\"displacy-token\" fill=\"currentColor\" text-anchor=\"middle\" y=\"132.0\">\n",
              "    <tspan class=\"displacy-word\" fill=\"currentColor\" x=\"645\">the</tspan>\n",
              "    <tspan class=\"displacy-tag\" dy=\"2em\" fill=\"currentColor\" x=\"645\">DET</tspan>\n",
              "</text>\n",
              "\n",
              "<text class=\"displacy-token\" fill=\"currentColor\" text-anchor=\"middle\" y=\"132.0\">\n",
              "    <tspan class=\"displacy-word\" fill=\"currentColor\" x=\"730\">skipper</tspan>\n",
              "    <tspan class=\"displacy-tag\" dy=\"2em\" fill=\"currentColor\" x=\"730\">NOUN</tspan>\n",
              "</text>\n",
              "\n",
              "<text class=\"displacy-token\" fill=\"currentColor\" text-anchor=\"middle\" y=\"132.0\">\n",
              "    <tspan class=\"displacy-word\" fill=\"currentColor\" x=\"815\">of</tspan>\n",
              "    <tspan class=\"displacy-tag\" dy=\"2em\" fill=\"currentColor\" x=\"815\">ADP</tspan>\n",
              "</text>\n",
              "\n",
              "<text class=\"displacy-token\" fill=\"currentColor\" text-anchor=\"middle\" y=\"132.0\">\n",
              "    <tspan class=\"displacy-word\" fill=\"currentColor\" x=\"900\">ICT</tspan>\n",
              "    <tspan class=\"displacy-tag\" dy=\"2em\" fill=\"currentColor\" x=\"900\">PROPN</tspan>\n",
              "</text>\n",
              "\n",
              "<g class=\"displacy-arrow\">\n",
              "    <path class=\"displacy-arc\" id=\"arrow-1d3c22b03b4e415fbc78781a81fd09f4-0-0\" stroke-width=\"2px\" d=\"M70,87.0 C70,44.5 130.0,44.5 130.0,87.0\" fill=\"none\" stroke=\"currentColor\"/>\n",
              "    <text dy=\"1.25em\" style=\"font-size: 0.8em; letter-spacing: 1px\">\n",
              "        <textPath xlink:href=\"#arrow-1d3c22b03b4e415fbc78781a81fd09f4-0-0\" class=\"displacy-label\" startOffset=\"50%\" side=\"left\" fill=\"currentColor\" text-anchor=\"middle\">nsubj</textPath>\n",
              "    </text>\n",
              "    <path class=\"displacy-arrowhead\" d=\"M70,89.0 L62,77.0 78,77.0\" fill=\"currentColor\"/>\n",
              "</g>\n",
              "\n",
              "<g class=\"displacy-arrow\">\n",
              "    <path class=\"displacy-arc\" id=\"arrow-1d3c22b03b4e415fbc78781a81fd09f4-0-1\" stroke-width=\"2px\" d=\"M240,87.0 C240,44.5 300.0,44.5 300.0,87.0\" fill=\"none\" stroke=\"currentColor\"/>\n",
              "    <text dy=\"1.25em\" style=\"font-size: 0.8em; letter-spacing: 1px\">\n",
              "        <textPath xlink:href=\"#arrow-1d3c22b03b4e415fbc78781a81fd09f4-0-1\" class=\"displacy-label\" startOffset=\"50%\" side=\"left\" fill=\"currentColor\" text-anchor=\"middle\">aux</textPath>\n",
              "    </text>\n",
              "    <path class=\"displacy-arrowhead\" d=\"M240,89.0 L232,77.0 248,77.0\" fill=\"currentColor\"/>\n",
              "</g>\n",
              "\n",
              "<g class=\"displacy-arrow\">\n",
              "    <path class=\"displacy-arc\" id=\"arrow-1d3c22b03b4e415fbc78781a81fd09f4-0-2\" stroke-width=\"2px\" d=\"M155,87.0 C155,2.0 305.0,2.0 305.0,87.0\" fill=\"none\" stroke=\"currentColor\"/>\n",
              "    <text dy=\"1.25em\" style=\"font-size: 0.8em; letter-spacing: 1px\">\n",
              "        <textPath xlink:href=\"#arrow-1d3c22b03b4e415fbc78781a81fd09f4-0-2\" class=\"displacy-label\" startOffset=\"50%\" side=\"left\" fill=\"currentColor\" text-anchor=\"middle\">xcomp</textPath>\n",
              "    </text>\n",
              "    <path class=\"displacy-arrowhead\" d=\"M305.0,89.0 L313.0,77.0 297.0,77.0\" fill=\"currentColor\"/>\n",
              "</g>\n",
              "\n",
              "<g class=\"displacy-arrow\">\n",
              "    <path class=\"displacy-arc\" id=\"arrow-1d3c22b03b4e415fbc78781a81fd09f4-0-3\" stroke-width=\"2px\" d=\"M325,87.0 C325,44.5 385.0,44.5 385.0,87.0\" fill=\"none\" stroke=\"currentColor\"/>\n",
              "    <text dy=\"1.25em\" style=\"font-size: 0.8em; letter-spacing: 1px\">\n",
              "        <textPath xlink:href=\"#arrow-1d3c22b03b4e415fbc78781a81fd09f4-0-3\" class=\"displacy-label\" startOffset=\"50%\" side=\"left\" fill=\"currentColor\" text-anchor=\"middle\">dobj</textPath>\n",
              "    </text>\n",
              "    <path class=\"displacy-arrowhead\" d=\"M385.0,89.0 L393.0,77.0 377.0,77.0\" fill=\"currentColor\"/>\n",
              "</g>\n",
              "\n",
              "<g class=\"displacy-arrow\">\n",
              "    <path class=\"displacy-arc\" id=\"arrow-1d3c22b03b4e415fbc78781a81fd09f4-0-4\" stroke-width=\"2px\" d=\"M495,87.0 C495,44.5 555.0,44.5 555.0,87.0\" fill=\"none\" stroke=\"currentColor\"/>\n",
              "    <text dy=\"1.25em\" style=\"font-size: 0.8em; letter-spacing: 1px\">\n",
              "        <textPath xlink:href=\"#arrow-1d3c22b03b4e415fbc78781a81fd09f4-0-4\" class=\"displacy-label\" startOffset=\"50%\" side=\"left\" fill=\"currentColor\" text-anchor=\"middle\">nsubj</textPath>\n",
              "    </text>\n",
              "    <path class=\"displacy-arrowhead\" d=\"M495,89.0 L487,77.0 503,77.0\" fill=\"currentColor\"/>\n",
              "</g>\n",
              "\n",
              "<g class=\"displacy-arrow\">\n",
              "    <path class=\"displacy-arc\" id=\"arrow-1d3c22b03b4e415fbc78781a81fd09f4-0-5\" stroke-width=\"2px\" d=\"M665,87.0 C665,44.5 725.0,44.5 725.0,87.0\" fill=\"none\" stroke=\"currentColor\"/>\n",
              "    <text dy=\"1.25em\" style=\"font-size: 0.8em; letter-spacing: 1px\">\n",
              "        <textPath xlink:href=\"#arrow-1d3c22b03b4e415fbc78781a81fd09f4-0-5\" class=\"displacy-label\" startOffset=\"50%\" side=\"left\" fill=\"currentColor\" text-anchor=\"middle\">det</textPath>\n",
              "    </text>\n",
              "    <path class=\"displacy-arrowhead\" d=\"M665,89.0 L657,77.0 673,77.0\" fill=\"currentColor\"/>\n",
              "</g>\n",
              "\n",
              "<g class=\"displacy-arrow\">\n",
              "    <path class=\"displacy-arc\" id=\"arrow-1d3c22b03b4e415fbc78781a81fd09f4-0-6\" stroke-width=\"2px\" d=\"M580,87.0 C580,2.0 730.0,2.0 730.0,87.0\" fill=\"none\" stroke=\"currentColor\"/>\n",
              "    <text dy=\"1.25em\" style=\"font-size: 0.8em; letter-spacing: 1px\">\n",
              "        <textPath xlink:href=\"#arrow-1d3c22b03b4e415fbc78781a81fd09f4-0-6\" class=\"displacy-label\" startOffset=\"50%\" side=\"left\" fill=\"currentColor\" text-anchor=\"middle\">attr</textPath>\n",
              "    </text>\n",
              "    <path class=\"displacy-arrowhead\" d=\"M730.0,89.0 L738.0,77.0 722.0,77.0\" fill=\"currentColor\"/>\n",
              "</g>\n",
              "\n",
              "<g class=\"displacy-arrow\">\n",
              "    <path class=\"displacy-arc\" id=\"arrow-1d3c22b03b4e415fbc78781a81fd09f4-0-7\" stroke-width=\"2px\" d=\"M750,87.0 C750,44.5 810.0,44.5 810.0,87.0\" fill=\"none\" stroke=\"currentColor\"/>\n",
              "    <text dy=\"1.25em\" style=\"font-size: 0.8em; letter-spacing: 1px\">\n",
              "        <textPath xlink:href=\"#arrow-1d3c22b03b4e415fbc78781a81fd09f4-0-7\" class=\"displacy-label\" startOffset=\"50%\" side=\"left\" fill=\"currentColor\" text-anchor=\"middle\">prep</textPath>\n",
              "    </text>\n",
              "    <path class=\"displacy-arrowhead\" d=\"M810.0,89.0 L818.0,77.0 802.0,77.0\" fill=\"currentColor\"/>\n",
              "</g>\n",
              "\n",
              "<g class=\"displacy-arrow\">\n",
              "    <path class=\"displacy-arc\" id=\"arrow-1d3c22b03b4e415fbc78781a81fd09f4-0-8\" stroke-width=\"2px\" d=\"M835,87.0 C835,44.5 895.0,44.5 895.0,87.0\" fill=\"none\" stroke=\"currentColor\"/>\n",
              "    <text dy=\"1.25em\" style=\"font-size: 0.8em; letter-spacing: 1px\">\n",
              "        <textPath xlink:href=\"#arrow-1d3c22b03b4e415fbc78781a81fd09f4-0-8\" class=\"displacy-label\" startOffset=\"50%\" side=\"left\" fill=\"currentColor\" text-anchor=\"middle\">pobj</textPath>\n",
              "    </text>\n",
              "    <path class=\"displacy-arrowhead\" d=\"M895.0,89.0 L903.0,77.0 887.0,77.0\" fill=\"currentColor\"/>\n",
              "</g>\n",
              "</svg></span>"
            ]
          },
          "metadata": {}
        }
      ]
    },
    {
      "cell_type": "markdown",
      "source": [
        "Visualizing Named Entities"
      ],
      "metadata": {
        "id": "eU8sWyWy9JZh"
      }
    },
    {
      "cell_type": "code",
      "source": [
        "from spacy import displacy\n",
        "sen = sp(u'Rohit Sharma scored 3500 runs in T20 ')\n",
        "displacy.render(sen, style='ent', jupyter=True)"
      ],
      "metadata": {
        "colab": {
          "base_uri": "https://localhost:8080/",
          "height": 52
        },
        "id": "EfWQCgAI9FxF",
        "outputId": "1ea5940e-441b-4ef3-8695-34ba59f73e5c"
      },
      "execution_count": 14,
      "outputs": [
        {
          "output_type": "display_data",
          "data": {
            "text/plain": [
              "<IPython.core.display.HTML object>"
            ],
            "text/html": [
              "<span class=\"tex2jax_ignore\"><div class=\"entities\" style=\"line-height: 2.5; direction: ltr\">\n",
              "<mark class=\"entity\" style=\"background: #aa9cfc; padding: 0.45em 0.6em; margin: 0 0.25em; line-height: 1; border-radius: 0.35em;\">\n",
              "    Rohit Sharma\n",
              "    <span style=\"font-size: 0.8em; font-weight: bold; line-height: 1; border-radius: 0.35em; vertical-align: middle; margin-left: 0.5rem\">PERSON</span>\n",
              "</mark>\n",
              " scored \n",
              "<mark class=\"entity\" style=\"background: #e4e7d2; padding: 0.45em 0.6em; margin: 0 0.25em; line-height: 1; border-radius: 0.35em;\">\n",
              "    3500\n",
              "    <span style=\"font-size: 0.8em; font-weight: bold; line-height: 1; border-radius: 0.35em; vertical-align: middle; margin-left: 0.5rem\">CARDINAL</span>\n",
              "</mark>\n",
              " runs in \n",
              "<mark class=\"entity\" style=\"background: #feca74; padding: 0.45em 0.6em; margin: 0 0.25em; line-height: 1; border-radius: 0.35em;\">\n",
              "    T20\n",
              "    <span style=\"font-size: 0.8em; font-weight: bold; line-height: 1; border-radius: 0.35em; vertical-align: middle; margin-left: 0.5rem\">GPE</span>\n",
              "</mark>\n",
              " </div></span>"
            ]
          },
          "metadata": {}
        }
      ]
    },
    {
      "cell_type": "markdown",
      "source": [
        "Named Entity Recognition"
      ],
      "metadata": {
        "id": "kSTkaMdq9Oxt"
      }
    },
    {
      "cell_type": "code",
      "source": [
        "import spacy\n",
        "sp = spacy.load('en_core_web_sm')\n",
        "sen = sp(u'Rohit Sharma scored 3500 runs in T20')\n",
        "print(sen.ents)"
      ],
      "metadata": {
        "colab": {
          "base_uri": "https://localhost:8080/"
        },
        "id": "9A-JRt4x9MQ3",
        "outputId": "66d9837d-f293-48ff-f94b-ce4311038188"
      },
      "execution_count": 15,
      "outputs": [
        {
          "output_type": "stream",
          "name": "stdout",
          "text": [
            "(Rohit Sharma, 3500, T20)\n"
          ]
        }
      ]
    },
    {
      "cell_type": "code",
      "source": [],
      "metadata": {
        "id": "CFUku4Qy9RmN"
      },
      "execution_count": null,
      "outputs": []
    }
  ]
}